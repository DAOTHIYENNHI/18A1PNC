{
 "cells": [
  {
   "cell_type": "markdown",
   "id": "e8f4c2c1",
   "metadata": {},
   "source": [
    "BÀI TẬP VẬN DỤNG CHƯƠNG 1"
   ]
  },
  {
   "cell_type": "markdown",
   "id": "25687ee6",
   "metadata": {},
   "source": [
    "Bài 1:"
   ]
  },
  {
   "cell_type": "code",
   "execution_count": 1,
   "id": "3a4c5f99",
   "metadata": {},
   "outputs": [
    {
     "name": "stdout",
     "output_type": "stream",
     "text": [
      "Chiều dài: 5.0, Chiều rộng: 3.0, Chu vi: 16.00, Diện tích: 15.00\n"
     ]
    }
   ],
   "source": [
    "class HCN:\n",
    "    def __init__(self, dai: float = 5, rong: float = 3):\n",
    "        self.dai = float(dai)\n",
    "        self.rong = float(rong)\n",
    "\n",
    "    def chuvi (self):\n",
    "        return (self.dai + self.rong)*2\n",
    "    def dientich (self):\n",
    "        return self.dai*self.rong\n",
    "    \n",
    "    def display (self):\n",
    "         print(f\"Chiều dài: {self.dai}, Chiều rộng: {self.rong}, Chu vi: {self.chuvi():.2f}, Diện tích: {self.dientich():.2f}\")\n",
    "\n",
    "hcn = HCN()\n",
    "hcn.display()"
   ]
  },
  {
   "cell_type": "code",
   "execution_count": null,
   "id": "8bce6369",
   "metadata": {},
   "outputs": [],
   "source": [
    "dai = float(input(\"Nhập chiều dài: \"))\n",
    "rong = float(input(\"Nhập chiều rộng: \"))\n",
    "\n",
    "hcn = HCN(dai, rong)\n",
    "hcn.display()"
   ]
  },
  {
   "cell_type": "markdown",
   "id": "4909d8ce",
   "metadata": {},
   "source": [
    "Bài 2:"
   ]
  },
  {
   "cell_type": "code",
   "execution_count": null,
   "id": "d0227649",
   "metadata": {},
   "outputs": [
    {
     "name": "stdout",
     "output_type": "stream",
     "text": [
      "Họ tên: Minh, Toán: 3.6, Lý: 3.6, Hóa: 3.6, Tổng: 10.80\n"
     ]
    }
   ],
   "source": [
    "class TS:\n",
    "    def __init__(self, hoten=\"\", toan=0, ly=0, hoa=0):\n",
    "        self.hoten = hoten\n",
    "        self.toan = float(toan)\n",
    "        self.ly = float(ly)\n",
    "        self.hoa = float(hoa)\n",
    "\n",
    "    # Pt nhập thông tin ts\n",
    "    def nhap(self):\n",
    "        self.hoten = input(\"Nhập họ tên thí sinh: \")\n",
    "        self.toan = float(input(\"Nhập điểm Toán: \"))\n",
    "        self.ly = float(input(\"Nhập điểm Lý: \"))\n",
    "        self.hoa = float(input(\"Nhập điểm Hóa: \"))\n",
    "\n",
    "    # Pt tính tổng điểm\n",
    "    def tongdiem(self):\n",
    "        return self.toan + self.ly + self.hoa\n",
    "\n",
    "    # Pt hiển thị thông tin ts\n",
    "    def display(self):\n",
    "        print(f\"Họ tên: {self.hoten}, Toán: {self.toan}, Lý: {self.ly}, Hóa: {self.hoa}, Tổng: {self.tongdiem():.2f}\")\n",
    "\n",
    "thisinh = TS()\n",
    "thisinh.nhap()\n",
    "thisinh.display()\n"
   ]
  },
  {
   "cell_type": "code",
   "execution_count": null,
   "id": "deebb0f5",
   "metadata": {},
   "outputs": [
    {
     "name": "stdout",
     "output_type": "stream",
     "text": [
      "Họ tên: Trần Thị B, Toán: 9.0, Lý: 8.0, Hóa: 7.0, Tổng: 24.00\n",
      "Họ tên: Nguyễn Văn A, Toán: 8.0, Lý: 7.5, Hóa: 6.5, Tổng: 22.00\n"
     ]
    }
   ],
   "source": [
    "# Nhập họ tên và điểm ds thí sinh\n",
    "ds_thi_sinh = [\n",
    "    TS(\"Nguyễn Văn A\", 8.0, 7.5, 6.5),\n",
    "    TS(\"Trần Thị B\", 9.0, 8.0, 7.0),\n",
    "    TS(\"Lê Văn C\", 6.0, 6.5, 5.0)\n",
    "]\n",
    "\n",
    "# Sx ds theo tổng điểm giảm dần\n",
    "ds_thi_sinh.sort(key=lambda ts: ts.tongdiem(), reverse=True)\n",
    "\n",
    "# Gthiet điểm chuẩn là 20\n",
    "diem_chuan = 20\n",
    "for ts in ds_thi_sinh:\n",
    "    if ts.tongdiem() >= diem_chuan:\n",
    "        ts.display()\n",
    "\n",
    "\n",
    "\n"
   ]
  },
  {
   "cell_type": "markdown",
   "id": "5f0d6e55",
   "metadata": {},
   "source": [
    "Bài 3:"
   ]
  },
  {
   "cell_type": "code",
   "execution_count": null,
   "id": "b47a2a14",
   "metadata": {},
   "outputs": [],
   "source": [
    "class PS:\n",
    "    def __init__(self, tu:int, mau:int):\n",
    "        self.tu = tu\n",
    "        self.mau = mau\n",
    "\n",
    "    def nhap(self):\n",
    "        self.tu = int(input(\"Nhập tử số: \"))\n",
    "        self.mau = int(input(\"Nhập mẫu số: \"))\n",
    "\n",
    "    def display(self):\n",
    "        print(f\"Phân số: {self.tu}/{self.mau}\")"
   ]
  },
  {
   "cell_type": "code",
   "execution_count": 21,
   "id": "32385e7d",
   "metadata": {},
   "outputs": [
    {
     "name": "stdout",
     "output_type": "stream",
     "text": [
      "Phân số: 1/2\n"
     ]
    }
   ],
   "source": [
    "ps1 = PS(1, 2)\n",
    "ps1.display()"
   ]
  },
  {
   "cell_type": "markdown",
   "id": "db559691",
   "metadata": {},
   "source": [
    "Bài 4:"
   ]
  },
  {
   "cell_type": "code",
   "execution_count": null,
   "id": "7da2f3a5",
   "metadata": {},
   "outputs": [],
   "source": [
    "class Stack:\n",
    "    #Đại diện cho một ngăn xếp (Stack) lưu kiểu float\n",
    "    def __init__(self, size:int):\n",
    "        \"\"\"Khởi tạo ngăn xếp có kích thước size.\"\"\"\n",
    "        self.size = size\n",
    "        self.stack = [0.0] * size\n",
    "        self.top = -1\n",
    "\n",
    "    def push(self, value:float):\n",
    "        #Đưa phần tử vào đỉnh ngăn xếp.\n",
    "        self.top += 1\n",
    "        self.stack[self.top] = value\n",
    "\n",
    "    def pop(self):\n",
    "        #Lấy phần tử ra khỏi đỉnh ngăn xếp\n",
    "        value = self.stack[self.top]\n",
    "        self.top -= 1\n",
    "        return value\n",
    "\n",
    "    def isEmpty(self):\n",
    "        #Kiểm tra ngăn xếp trống\n",
    "        return self.top == -1\n",
    "\n",
    "    def isFull(self):\n",
    "        #Kiểm tra ngăn xếp đầy\n",
    "        return self.top == self.size - 1\n"
   ]
  },
  {
   "cell_type": "code",
   "execution_count": 23,
   "id": "a9d8aca2",
   "metadata": {},
   "outputs": [
    {
     "name": "stdout",
     "output_type": "stream",
     "text": [
      "20.0\n"
     ]
    }
   ],
   "source": [
    "st1 = Stack(3)\n",
    "st1.push(10.5)\n",
    "st1.push(20.0)\n",
    "print(st1.pop())"
   ]
  },
  {
   "cell_type": "markdown",
   "id": "1bad9942",
   "metadata": {},
   "source": [
    "Bài 5:"
   ]
  },
  {
   "cell_type": "code",
   "execution_count": null,
   "id": "1b2f2a1b",
   "metadata": {},
   "outputs": [],
   "source": [
    "class StackCount(Stack):\n",
    "    #Mở rộng lớp Stack, bổ sung thuộc tính count\n",
    "    def __init__(self, size:int):\n",
    "        super().__init__(size)\n",
    "        self.count = 0\n",
    "\n",
    "    def push(self, value:float):\n",
    "        #Thêm phần tử và tăng bộ đế.\"\"\"\n",
    "        self.top += 1\n",
    "        self.stack[self.top] = value\n",
    "        self.count += 1\n",
    "\n",
    "    def pop(self):\n",
    "        #Lấy phần tử và giảm bộ đếm\n",
    "        value = self.stack[self.top]\n",
    "        self.top -= 1\n",
    "        self.count -= 1\n",
    "        return value\n"
   ]
  },
  {
   "cell_type": "markdown",
   "id": "f0eb20bd",
   "metadata": {},
   "source": [
    "Bài 6:"
   ]
  },
  {
   "cell_type": "code",
   "execution_count": null,
   "id": "044afb73",
   "metadata": {},
   "outputs": [],
   "source": [
    "class StackPrint(StackCount):\n",
    "    # Stack có thêm khả năng in toàn bộ phần tử\n",
    "    def printStack(self):\n",
    "        print(\"Nội dung ngăn xếp:\", self.stack[:self.top+1])\n"
   ]
  },
  {
   "cell_type": "markdown",
   "id": "0aeaecf2",
   "metadata": {},
   "source": [
    "Bài 7:"
   ]
  },
  {
   "cell_type": "code",
   "execution_count": null,
   "id": "4e638843",
   "metadata": {},
   "outputs": [],
   "source": [
    "class Date:\n",
    "    def __init__(self, day:int, month:int, year:int):\n",
    "        self.day = day\n",
    "        self.month = month\n",
    "        self.year = year\n",
    "\n",
    "    def display(self):\n",
    "        print(f\"{self.day:02d}/{self.month:02d}/{self.year}\")\n"
   ]
  },
  {
   "cell_type": "code",
   "execution_count": null,
   "id": "33bf0520",
   "metadata": {},
   "outputs": [
    {
     "name": "stdout",
     "output_type": "stream",
     "text": [
      "06/10/2025\n"
     ]
    }
   ],
   "source": [
    "d1 = Date(6, 10, 2025)\n",
    "d1.display()\n",
    "\n",
    "#thiếu next"
   ]
  },
  {
   "cell_type": "markdown",
   "id": "4b09facf",
   "metadata": {},
   "source": [
    "Bài 8:"
   ]
  },
  {
   "cell_type": "code",
   "execution_count": null,
   "id": "f510f10c",
   "metadata": {},
   "outputs": [],
   "source": [
    "class Employee:\n",
    "    def __init__(self, name:str, birth:Date, hire:Date):\n",
    "        self.name = name\n",
    "        self.birth = birth\n",
    "        self.hire = hire\n",
    "\n",
    "    def display(self):\n",
    "        print(\"Tên:\", self.name)\n",
    "        print(\"Ngày sinh:\", end=\" \"); self.birth.display()\n",
    "        print(\"Ngày vào công ty:\", end=\" \"); self.hire.display()\n"
   ]
  },
  {
   "cell_type": "code",
   "execution_count": null,
   "id": "4ab295a3",
   "metadata": {},
   "outputs": [
    {
     "name": "stdout",
     "output_type": "stream",
     "text": [
      "Tên: Nguyễn Văn A\n",
      "Ngày sinh: 05/11/2006\n",
      "Ngày vào công ty: 06/10/2025\n"
     ]
    }
   ],
   "source": [
    "birth = Date(5, 11, 2006)\n",
    "hire = Date(6, 10, 2025)\n",
    "nv = Employee(\"Nguyễn Văn A\", birth, hire)\n",
    "nv.display()\n",
    "\n"
   ]
  },
  {
   "cell_type": "markdown",
   "id": "107d946b",
   "metadata": {},
   "source": [
    "Bài 9: gg"
   ]
  },
  {
   "cell_type": "markdown",
   "id": "0fca48de",
   "metadata": {},
   "source": [
    "Bài 10:"
   ]
  },
  {
   "cell_type": "code",
   "execution_count": null,
   "id": "d4a0b7d2",
   "metadata": {},
   "outputs": [],
   "source": [
    "import math\n",
    "\n",
    "class Diem:\n",
    "    def __init__(self, x: float = 0, y: float = 0):\n",
    "        self.x = x\n",
    "        self.y = y\n",
    "\n",
    "    def nhap(self):\n",
    "        self.x = float(input(\"Nhập hoành độ x: \"))\n",
    "        self.y = float(input(\"Nhập tung độ y: \"))\n",
    "\n",
    "    def xuat(self):\n",
    "        print(f\"({self.x}, {self.y})\")\n",
    "\n",
    "# -------------------------------\n",
    "\n",
    "class Elip(Diem):\n",
    "    \"\"\"Lớp Elip kế thừa từ Diem.\"\"\"\n",
    "    def __init__(self, x: float = 0, y: float = 0, a: float = 0, b: float = 0):\n",
    "        super().__init__(x, y)\n",
    "        self.a = a\n",
    "        self.b = b\n",
    "\n",
    "    def nhap(self):\n",
    "        super().nhap()\n",
    "        self.a = float(input(\"Nhập bán trục lớn a: \"))\n",
    "        self.b = float(input(\"Nhập bán trục nhỏ b: \"))\n",
    "\n",
    "    def dien_tich(self):\n",
    "        return math.pi * self.a * self.b\n",
    "\n",
    "    def xuat(self):\n",
    "        print(f\"Tâm elip tại ({self.x}, {self.y}), bán trục lớn a = {self.a}, bán trục nhỏ b = {self.b}, Diện tích elip = {self.dien_tich():.2f}\")\n",
    "\n",
    "# -------------------------------\n",
    "\n",
    "class DuongTron(Elip):\n",
    "    \"\"\"Lớp Đường tròn kế thừa từ Elip.\"\"\"\n",
    "    def __init__(self, x: float = 0, y: float = 0, r: float = 0):\n",
    "        super().__init__(x, y, r, r)\n",
    "        self.r = r\n",
    "\n",
    "    def nhap(self):\n",
    "        super().nhap()\n",
    "        self.r = float(input(\"Nhập bán kính r: \"))\n",
    "        self.a = self.b = self.r\n",
    "\n",
    "    def dien_tich(self):\n",
    "        return math.pi * self.r ** 2\n",
    "\n",
    "    def xuat(self):\n",
    "        print(f\"Tâm đường tròn tại ({self.x}, {self.y}), bán kính r = {self.r}, Diện tích đường tròn = {self.dien_tich():.2f}\")\n"
   ]
  },
  {
   "cell_type": "code",
   "execution_count": 38,
   "id": "072621fa",
   "metadata": {},
   "outputs": [
    {
     "name": "stdout",
     "output_type": "stream",
     "text": [
      "Tâm elip tại , Bán trục lớn a = 3.0, bán trục nhỏ b = 4.0, Diện tích elip = 37.70\n",
      "(1.0, 2.0)\n"
     ]
    }
   ],
   "source": [
    "e = Elip()\n",
    "e.nhap()\n",
    "e.xuat()"
   ]
  },
  {
   "cell_type": "code",
   "execution_count": 39,
   "id": "1ab59d9b",
   "metadata": {},
   "outputs": [
    {
     "name": "stdout",
     "output_type": "stream",
     "text": [
      "Tâm đường tròn tại , Bán kính r = 5.0, Diện tích đường tròn = 78.54\n"
     ]
    },
    {
     "ename": "AttributeError",
     "evalue": "'super' object has no attribute 'xuat'",
     "output_type": "error",
     "traceback": [
      "\u001b[31m---------------------------------------------------------------------------\u001b[39m",
      "\u001b[31mAttributeError\u001b[39m                            Traceback (most recent call last)",
      "\u001b[36mCell\u001b[39m\u001b[36m \u001b[39m\u001b[32mIn[39]\u001b[39m\u001b[32m, line 3\u001b[39m\n\u001b[32m      1\u001b[39m c = DuongTron()\n\u001b[32m      2\u001b[39m c.nhap()\n\u001b[32m----> \u001b[39m\u001b[32m3\u001b[39m \u001b[43mc\u001b[49m\u001b[43m.\u001b[49m\u001b[43mxuat\u001b[49m\u001b[43m(\u001b[49m\u001b[43m)\u001b[49m\n",
      "\u001b[36mCell\u001b[39m\u001b[36m \u001b[39m\u001b[32mIn[31]\u001b[39m\u001b[32m, line 54\u001b[39m, in \u001b[36mDuongTron.xuat\u001b[39m\u001b[34m(self)\u001b[39m\n\u001b[32m     52\u001b[39m \u001b[38;5;28;01mdef\u001b[39;00m\u001b[38;5;250m \u001b[39m\u001b[34mxuat\u001b[39m(\u001b[38;5;28mself\u001b[39m):\n\u001b[32m     53\u001b[39m     \u001b[38;5;28mprint\u001b[39m(\u001b[33mf\u001b[39m\u001b[33m\"\u001b[39m\u001b[33mTâm đường tròn tại , Bán kính r = \u001b[39m\u001b[38;5;132;01m{\u001b[39;00m\u001b[38;5;28mself\u001b[39m.r\u001b[38;5;132;01m}\u001b[39;00m\u001b[33m, Diện tích đường tròn = \u001b[39m\u001b[38;5;132;01m{\u001b[39;00m\u001b[38;5;28mself\u001b[39m.dien_tich()\u001b[38;5;132;01m:\u001b[39;00m\u001b[33m.2f\u001b[39m\u001b[38;5;132;01m}\u001b[39;00m\u001b[33m\"\u001b[39m)\n\u001b[32m---> \u001b[39m\u001b[32m54\u001b[39m     \u001b[38;5;28;43msuper\u001b[39;49m\u001b[43m(\u001b[49m\u001b[43mDiem\u001b[49m\u001b[43m,\u001b[49m\u001b[43m \u001b[49m\u001b[38;5;28;43mself\u001b[39;49m\u001b[43m)\u001b[49m\u001b[43m.\u001b[49m\u001b[43mxuat\u001b[49m()\n",
      "\u001b[31mAttributeError\u001b[39m: 'super' object has no attribute 'xuat'"
     ]
    }
   ],
   "source": [
    "c = DuongTron()\n",
    "c.nhap()\n",
    "c.xuat()"
   ]
  }
 ],
 "metadata": {
  "kernelspec": {
   "display_name": "Python 3",
   "language": "python",
   "name": "python3"
  },
  "language_info": {
   "codemirror_mode": {
    "name": "ipython",
    "version": 3
   },
   "file_extension": ".py",
   "mimetype": "text/x-python",
   "name": "python",
   "nbconvert_exporter": "python",
   "pygments_lexer": "ipython3",
   "version": "3.13.0"
  }
 },
 "nbformat": 4,
 "nbformat_minor": 5
}
